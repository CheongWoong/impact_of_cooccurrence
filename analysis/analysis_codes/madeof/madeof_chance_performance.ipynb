{
 "cells": [
  {
   "cell_type": "code",
   "execution_count": null,
   "metadata": {},
   "outputs": [],
   "source": [
    "import json\n",
    "from tqdm.auto import tqdm\n",
    "from collections import Counter, defaultdict\n",
    "import numpy as np"
   ]
  },
  {
   "cell_type": "code",
   "execution_count": null,
   "metadata": {},
   "outputs": [],
   "source": [
    "data = json.load(open('../../../data/ConceptNet/test.json', 'r'))"
   ]
  },
  {
   "cell_type": "code",
   "execution_count": null,
   "metadata": {},
   "outputs": [],
   "source": [
    "relation_wise_examples = defaultdict(list)\n",
    "for example in tqdm(data):\n",
    "    relation_wise_examples[example['rel_id']].append(example)"
   ]
  },
  {
   "cell_type": "code",
   "execution_count": null,
   "metadata": {},
   "outputs": [],
   "source": [
    "for rel_id in relation_wise_examples:\n",
    "    # if rel_id != 'MadeOf':\n",
    "    #     continue\n",
    "    \n",
    "    examples = relation_wise_examples[rel_id]\n",
    "\n",
    "    obj_list = []\n",
    "    for example in examples:\n",
    "        obj_list.append(example['output'])\n",
    "    obj_counts = Counter(obj_list)\n",
    "\n",
    "    k = 100\n",
    "    top_k_obj_counts = obj_counts.most_common(k)\n",
    "\n",
    "    top_k_objs, top_k_counts = [], []\n",
    "    for obj, count in top_k_obj_counts:\n",
    "        top_k_objs.append(obj)\n",
    "        top_k_counts.append(count)\n",
    "\n",
    "    top_k_coverage_rates = []\n",
    "    for i in range(len(top_k_counts)):\n",
    "        top_k_coverage_rates.append(f'{np.round(np.sum(top_k_counts[:i+1]) / len(examples), 2)}')\n",
    "\n",
    "    print(rel_id, len(relation_wise_examples[rel_id]))\n",
    "    print(f'{len(obj_counts)} objects for {len(examples)} samples')\n",
    "    print(top_k_objs)\n",
    "    print(top_k_coverage_rates)\n",
    "    print('='*30)"
   ]
  },
  {
   "cell_type": "code",
   "execution_count": null,
   "metadata": {},
   "outputs": [],
   "source": []
  }
 ],
 "metadata": {
  "kernelspec": {
   "display_name": "factual_knowledge_probing",
   "language": "python",
   "name": "python3"
  },
  "language_info": {
   "codemirror_mode": {
    "name": "ipython",
    "version": 3
   },
   "file_extension": ".py",
   "mimetype": "text/x-python",
   "name": "python",
   "nbconvert_exporter": "python",
   "pygments_lexer": "ipython3",
   "version": "3.9.18"
  }
 },
 "nbformat": 4,
 "nbformat_minor": 2
}
