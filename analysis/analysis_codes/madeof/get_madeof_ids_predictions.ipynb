{
 "cells": [
  {
   "cell_type": "code",
   "execution_count": null,
   "metadata": {},
   "outputs": [],
   "source": [
    "import jsonlines\n",
    "import json\n",
    "import os\n",
    "\n",
    "from tqdm.auto import tqdm"
   ]
  },
  {
   "cell_type": "code",
   "execution_count": null,
   "metadata": {},
   "outputs": [],
   "source": [
    "data = json.load(open('../../../data/ConceptNet/test.json', 'r'))"
   ]
  },
  {
   "cell_type": "code",
   "execution_count": null,
   "metadata": {},
   "outputs": [],
   "source": [
    "uid_example_map = {}\n",
    "for example in tqdm(data):\n",
    "    uid_example_map[example['uid']] = example"
   ]
  },
  {
   "cell_type": "code",
   "execution_count": null,
   "metadata": {},
   "outputs": [],
   "source": [
    "with open('madeof_ids.json', 'r') as fin:\n",
    "    valid_ids = json.load(fin)"
   ]
  },
  {
   "cell_type": "code",
   "execution_count": null,
   "metadata": {},
   "outputs": [],
   "source": [
    "model_names = [\n",
    "    'bert-base-uncased', 'bert-large-uncased',\n",
    "    'roberta-base', 'roberta-large',\n",
    "    'albert-base-v1', 'albert-large-v1', 'albert-xlarge-v1',\n",
    "    'albert-base-v2', 'albert-large-v2', 'albert-xlarge-v2',\n",
    "    'gpt-neo-125m', 'gpt-neo-1.3B', 'gpt-neo-2.7B', 'gpt-j-6b',\n",
    "    'Meta-Llama-3-8B', 'Meta-Llama-3-8B-Instruct',\n",
    "]"
   ]
  },
  {
   "cell_type": "code",
   "execution_count": null,
   "metadata": {},
   "outputs": [],
   "source": [
    "for model_name in model_names:\n",
    "    model_path = os.path.join('../../../results/ConceptNet', model_name+'_ConceptNet_zeroshot')\n",
    "    pred_path = os.path.join(model_path, 'pred_ConceptNet_test.jsonl')\n",
    "    \n",
    "    with jsonlines.open(pred_path) as fin:\n",
    "        results = []\n",
    "        \n",
    "        for line in fin.iter():\n",
    "            uid = line['uid']\n",
    "\n",
    "            if uid not in valid_ids:\n",
    "                continue\n",
    "\n",
    "            subj = uid_example_map[uid]['subj']\n",
    "            rel_id = uid_example_map[uid]['rel_id']\n",
    "            label_text = line['label_text']\n",
    "            top_100_text = line['top_100_text_remove_stopwords']\n",
    "            mrr = line['mrr_remove_stopwords']\n",
    "            hits_1 = line['hits@1_remove_stopwords']\n",
    "            hits_10 = line['hits@10_remove_stopwords']\n",
    "            hits_100 = line['hits@100_remove_stopwords']\n",
    "            result = {\n",
    "                'uid': uid,\n",
    "                'subj': subj,\n",
    "                'rel_id': rel_id,\n",
    "                'label_text': label_text,\n",
    "                'top_100_text': top_100_text,\n",
    "                'mrr': mrr,\n",
    "                'hits@1': hits_1,\n",
    "                'hits@10': hits_10,\n",
    "                'hits@100': hits_100,\n",
    "            }\n",
    "            results.append(result)\n",
    "\n",
    "    out_path = os.path.join('results', model_name+'_madeof_predictions.jsonl')\n",
    "    with open(out_path, 'w') as fout:\n",
    "        print(model_name, len(results))\n",
    "        for result in results:\n",
    "            json.dump(result, fout)\n",
    "            fout.write('\\n')"
   ]
  },
  {
   "cell_type": "code",
   "execution_count": null,
   "metadata": {},
   "outputs": [],
   "source": [
    "model_names = [\n",
    "    'gpt-3.5-turbo-0125', 'gpt-4o-2024-08-06'\n",
    "]"
   ]
  },
  {
   "cell_type": "code",
   "execution_count": null,
   "metadata": {},
   "outputs": [],
   "source": [
    "for model_name in model_names:\n",
    "    model_path = os.path.join('../../../results/ConceptNet', model_name+'_ConceptNet_zeroshot')\n",
    "    pred_path = os.path.join(model_path, 'pred_ConceptNet_test.jsonl')\n",
    "    \n",
    "    with jsonlines.open(pred_path) as fin:\n",
    "        results = []\n",
    "        \n",
    "        for line in fin.iter():\n",
    "            uid = line['uid']\n",
    "\n",
    "            if uid not in valid_ids:\n",
    "                continue\n",
    "\n",
    "            subj = uid_example_map[uid]['subj']\n",
    "            rel_id = uid_example_map[uid]['rel_id']\n",
    "            label_text = line['label_text']\n",
    "            top_k_text = line['top_k_text_remove_stopwords']\n",
    "            hits_1 = line['hits@1_remove_stopwords']\n",
    "            result = {\n",
    "                'uid': uid,\n",
    "                'subj': subj,\n",
    "                'rel_id': rel_id,\n",
    "                'label_text': label_text,\n",
    "                'top_k_text': top_k_text,\n",
    "                'hits@1': hits_1,\n",
    "            }\n",
    "            results.append(result)\n",
    "\n",
    "    out_path = os.path.join('results', model_name+'_madeof_predictions.jsonl')\n",
    "    with open(out_path, 'w') as fout:\n",
    "        print(model_name, len(results))\n",
    "        for result in results:\n",
    "            json.dump(result, fout)\n",
    "            fout.write('\\n')"
   ]
  },
  {
   "cell_type": "code",
   "execution_count": null,
   "metadata": {},
   "outputs": [],
   "source": [
    "for model_name in model_names:\n",
    "    model_path = os.path.join('../../../results/ConceptNet', model_name+'_ConceptNet_zeroshot')\n",
    "    pred_path = os.path.join(model_path, 'pred_ConceptNet_test_4_shot.jsonl')\n",
    "    \n",
    "    with jsonlines.open(pred_path) as fin:\n",
    "        results = []\n",
    "        \n",
    "        for line in fin.iter():\n",
    "            uid = line['uid']\n",
    "\n",
    "            if uid not in valid_ids:\n",
    "                continue\n",
    "\n",
    "            subj = uid_example_map[uid]['subj']\n",
    "            rel_id = uid_example_map[uid]['rel_id']\n",
    "            label_text = line['label_text']\n",
    "            top_k_text = line['top_k_text_remove_stopwords']\n",
    "            hits_1 = line['hits@1_remove_stopwords']\n",
    "            result = {\n",
    "                'uid': uid,\n",
    "                'subj': subj,\n",
    "                'rel_id': rel_id,\n",
    "                'label_text': label_text,\n",
    "                'top_k_text': top_k_text,\n",
    "                'hits@1': hits_1,\n",
    "            }\n",
    "            results.append(result)\n",
    "\n",
    "    out_path = os.path.join('results', model_name+'_few_shot_madeof_predictions.jsonl')\n",
    "    with open(out_path, 'w') as fout:\n",
    "        print(model_name, len(results))\n",
    "        for result in results:\n",
    "            json.dump(result, fout)\n",
    "            fout.write('\\n')"
   ]
  },
  {
   "cell_type": "code",
   "execution_count": null,
   "metadata": {},
   "outputs": [],
   "source": [
    "model_names = [\n",
    "    'bert-base-uncased', 'bert-large-uncased',\n",
    "    'gpt-j-6b', 'Meta-Llama-3-8B',\n",
    "]"
   ]
  },
  {
   "cell_type": "code",
   "execution_count": null,
   "metadata": {},
   "outputs": [],
   "source": [
    "for model_name in model_names:\n",
    "    model_path = os.path.join('../../../results/ConceptNet', model_name+'_ConceptNet_prompt_tuning')\n",
    "    pred_path = os.path.join(model_path, 'pred_ConceptNet_test.jsonl')\n",
    "    \n",
    "    with jsonlines.open(pred_path) as fin:\n",
    "        results = []\n",
    "        \n",
    "        for line in fin.iter():\n",
    "            uid = line['uid']\n",
    "\n",
    "            if uid not in valid_ids:\n",
    "                continue\n",
    "\n",
    "            subj = uid_example_map[uid]['subj']\n",
    "            rel_id = uid_example_map[uid]['rel_id']\n",
    "            label_text = line['label_text']\n",
    "            top_100_text = line['top_100_text_remove_stopwords']\n",
    "            mrr = line['mrr_remove_stopwords']\n",
    "            hits_1 = line['hits@1_remove_stopwords']\n",
    "            hits_10 = line['hits@10_remove_stopwords']\n",
    "            hits_100 = line['hits@100_remove_stopwords']\n",
    "            result = {\n",
    "                'uid': uid,\n",
    "                'subj': subj,\n",
    "                'rel_id': rel_id,\n",
    "                'label_text': label_text,\n",
    "                'top_100_text': top_100_text,\n",
    "                'mrr': mrr,\n",
    "                'hits@1': hits_1,\n",
    "                'hits@10': hits_10,\n",
    "                'hits@100': hits_100,\n",
    "            }\n",
    "            results.append(result)\n",
    "\n",
    "    out_path = os.path.join('results', model_name+'_prompt_tuning_madeof_predictions.jsonl')\n",
    "    with open(out_path, 'w') as fout:\n",
    "        print(model_name, len(results))\n",
    "        for result in results:\n",
    "            json.dump(result, fout)\n",
    "            fout.write('\\n')"
   ]
  },
  {
   "cell_type": "code",
   "execution_count": null,
   "metadata": {},
   "outputs": [],
   "source": []
  }
 ],
 "metadata": {
  "kernelspec": {
   "display_name": "factual_knowledge_probing",
   "language": "python",
   "name": "python3"
  },
  "language_info": {
   "codemirror_mode": {
    "name": "ipython",
    "version": 3
   },
   "file_extension": ".py",
   "mimetype": "text/x-python",
   "name": "python",
   "nbconvert_exporter": "python",
   "pygments_lexer": "ipython3",
   "version": "3.9.18"
  }
 },
 "nbformat": 4,
 "nbformat_minor": 2
}
