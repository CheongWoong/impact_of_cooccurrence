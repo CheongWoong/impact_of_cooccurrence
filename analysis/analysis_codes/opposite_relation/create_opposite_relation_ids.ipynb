{
 "cells": [
  {
   "cell_type": "code",
   "execution_count": 2,
   "metadata": {},
   "outputs": [
    {
     "name": "stderr",
     "output_type": "stream",
     "text": [
      "/home/cheongwoong/miniconda3/envs/factual_knowledge_probing/lib/python3.9/site-packages/tqdm/auto.py:21: TqdmWarning: IProgress not found. Please update jupyter and ipywidgets. See https://ipywidgets.readthedocs.io/en/stable/user_install.html\n",
      "  from .autonotebook import tqdm as notebook_tqdm\n"
     ]
    }
   ],
   "source": [
    "import json\n",
    "from collections import defaultdict\n",
    "from tqdm.auto import tqdm"
   ]
  },
  {
   "cell_type": "code",
   "execution_count": 3,
   "metadata": {},
   "outputs": [],
   "source": [
    "data = json.load(open('../../../data/ConceptNet/test.json', 'r'))"
   ]
  },
  {
   "cell_type": "code",
   "execution_count": 4,
   "metadata": {},
   "outputs": [
    {
     "name": "stderr",
     "output_type": "stream",
     "text": [
      "100%|██████████| 161169/161169 [00:00<00:00, 1889855.27it/s]\n"
     ]
    }
   ],
   "source": [
    "relation_wise_examples = defaultdict(list)\n",
    "relation_wise_subjects = defaultdict(set)\n",
    "for example in tqdm(data):\n",
    "    if example['rel_id'] in ['Synonym', 'Antonym', 'HasProperty', 'NotHasProperty', 'Desires', 'NotDesires', 'CapableOf', 'NotCapableOf']:\n",
    "        relation_wise_examples[example['rel_id']].append(example)\n",
    "        relation_wise_subjects[example['rel_id']].add(example['subj'])"
   ]
  },
  {
   "cell_type": "code",
   "execution_count": 5,
   "metadata": {},
   "outputs": [],
   "source": [
    "all_data = json.load(open('../../../data/ConceptNet/all.json', 'r'))"
   ]
  },
  {
   "cell_type": "code",
   "execution_count": 6,
   "metadata": {},
   "outputs": [
    {
     "name": "stderr",
     "output_type": "stream",
     "text": [
      "100%|██████████| 537229/537229 [00:00<00:00, 2198722.85it/s]\n"
     ]
    }
   ],
   "source": [
    "all_relation_wise_examples = defaultdict(list)\n",
    "all_relation_wise_subjects = defaultdict(set)\n",
    "for example in tqdm(all_data):\n",
    "    if example['rel_id'] in ['Synonym', 'Antonym', 'HasProperty', 'NotHasProperty', 'Desires', 'NotDesires', 'CapableOf', 'NotCapableOf']:\n",
    "        all_relation_wise_examples[example['rel_id']].append(example)\n",
    "        all_relation_wise_subjects[example['rel_id']].add(example['subj'])"
   ]
  },
  {
   "cell_type": "code",
   "execution_count": 7,
   "metadata": {},
   "outputs": [
    {
     "name": "stdout",
     "output_type": "stream",
     "text": [
      "Synonym 6404\n",
      "Antonym 1061\n",
      "HasProperty 857\n",
      "CapableOf 203\n",
      "NotCapableOf 10\n",
      "NotDesires 18\n",
      "Desires 57\n",
      "NotHasProperty 40\n"
     ]
    }
   ],
   "source": [
    "for rel_id in relation_wise_examples:\n",
    "    print(rel_id, len(relation_wise_examples[rel_id]))"
   ]
  },
  {
   "cell_type": "code",
   "execution_count": 8,
   "metadata": {},
   "outputs": [],
   "source": [
    "filtered_relation_wise_examples = defaultdict(list)\n",
    "merged_relation_wise_subjects = {}\n",
    "merged_relation_wise_subjects['Synonym'] = relation_wise_subjects['Synonym'] & all_relation_wise_subjects['Antonym']\n",
    "merged_relation_wise_subjects['Antonym'] = relation_wise_subjects['Antonym'] & all_relation_wise_subjects['Synonym']\n",
    "merged_relation_wise_subjects['HasProperty'] = relation_wise_subjects['HasProperty'] & all_relation_wise_subjects['NotHasProperty']\n",
    "merged_relation_wise_subjects['NotHasProperty'] = relation_wise_subjects['NotHasProperty'] & all_relation_wise_subjects['HasProperty']\n",
    "merged_relation_wise_subjects['Desires'] = relation_wise_subjects['Desires'] & all_relation_wise_subjects['NotDesires']\n",
    "merged_relation_wise_subjects['NotDesires'] = relation_wise_subjects['NotDesires'] & all_relation_wise_subjects['Desires']\n",
    "merged_relation_wise_subjects['CapableOf'] = relation_wise_subjects['CapableOf'] & all_relation_wise_subjects['NotCapableOf']\n",
    "merged_relation_wise_subjects['NotCapableOf'] = relation_wise_subjects['NotCapableOf'] & all_relation_wise_subjects['CapableOf']"
   ]
  },
  {
   "cell_type": "code",
   "execution_count": 9,
   "metadata": {},
   "outputs": [],
   "source": [
    "for rel_id in relation_wise_examples:\n",
    "    for example in relation_wise_examples[rel_id]:\n",
    "        if example['subj'] in merged_relation_wise_subjects[rel_id]:\n",
    "            filtered_relation_wise_examples[rel_id].append(example)"
   ]
  },
  {
   "cell_type": "code",
   "execution_count": 10,
   "metadata": {},
   "outputs": [
    {
     "name": "stdout",
     "output_type": "stream",
     "text": [
      "Synonym 639\n",
      "Antonym 646\n",
      "HasProperty 13\n",
      "CapableOf 1\n",
      "NotCapableOf 1\n",
      "NotDesires 7\n",
      "Desires 8\n",
      "NotHasProperty 10\n"
     ]
    }
   ],
   "source": [
    "for rel_id in filtered_relation_wise_examples:\n",
    "    print(rel_id, len(filtered_relation_wise_examples[rel_id]))"
   ]
  },
  {
   "cell_type": "code",
   "execution_count": 11,
   "metadata": {},
   "outputs": [],
   "source": [
    "opposite_relation_ids = []\n",
    "for example in filtered_relation_wise_examples['Synonym']:\n",
    "    opposite_relation_ids.append(example['uid'])\n",
    "for example in filtered_relation_wise_examples['Antonym']:\n",
    "    opposite_relation_ids.append(example['uid'])"
   ]
  },
  {
   "cell_type": "code",
   "execution_count": 16,
   "metadata": {},
   "outputs": [],
   "source": [
    "synonym_answers = defaultdict(list)\n",
    "antonym_answers = defaultdict(list)\n",
    "for example in all_relation_wise_examples['Synonym']:\n",
    "    if example['subj'] in relation_wise_subjects['Antonym']:\n",
    "        synonym_answers[example['subj']].append(example['output'])\n",
    "for example in all_relation_wise_examples['Antonym']:\n",
    "    if example['subj'] in relation_wise_subjects['Synonym']:\n",
    "        antonym_answers[example['subj']].append(example['output'])"
   ]
  },
  {
   "cell_type": "code",
   "execution_count": 18,
   "metadata": {},
   "outputs": [],
   "source": [
    "with open('opposite_relation_ids.json', 'w') as fout:\n",
    "    json.dump(opposite_relation_ids, fout)\n",
    "with open('synonym_answers.json', 'w') as fout:\n",
    "    json.dump(synonym_answers, fout)\n",
    "with open('antonym_answers.json', 'w') as fout:\n",
    "    json.dump(antonym_answers, fout)"
   ]
  }
 ],
 "metadata": {
  "kernelspec": {
   "display_name": "factual_knowledge_probing",
   "language": "python",
   "name": "python3"
  },
  "language_info": {
   "codemirror_mode": {
    "name": "ipython",
    "version": 3
   },
   "file_extension": ".py",
   "mimetype": "text/x-python",
   "name": "python",
   "nbconvert_exporter": "python",
   "pygments_lexer": "ipython3",
   "version": "3.9.18"
  }
 },
 "nbformat": 4,
 "nbformat_minor": 2
}
