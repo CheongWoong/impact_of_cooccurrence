{
 "cells": [
  {
   "cell_type": "code",
   "execution_count": null,
   "metadata": {},
   "outputs": [],
   "source": [
    "import json\n",
    "from collections import defaultdict\n",
    "from tqdm.auto import tqdm"
   ]
  },
  {
   "cell_type": "code",
   "execution_count": null,
   "metadata": {},
   "outputs": [],
   "source": [
    "data = json.load(open('../../../data/ConceptNet/test.json', 'r'))"
   ]
  },
  {
   "cell_type": "code",
   "execution_count": null,
   "metadata": {},
   "outputs": [],
   "source": [
    "relation_wise_examples = defaultdict(list)\n",
    "relation_wise_subjects = defaultdict(set)\n",
    "for example in tqdm(data):\n",
    "    if example['rel_id'] in ['Synonym', 'Antonym', 'HasProperty', 'NotHasProperty', 'Desires', 'NotDesires', 'CapableOf', 'NotCapableOf']:\n",
    "        relation_wise_examples[example['rel_id']].append(example)\n",
    "        relation_wise_subjects[example['rel_id']].add(example['subj'])"
   ]
  },
  {
   "cell_type": "code",
   "execution_count": null,
   "metadata": {},
   "outputs": [],
   "source": [
    "all_data = json.load(open('../../../data/ConceptNet/all.json', 'r'))"
   ]
  },
  {
   "cell_type": "code",
   "execution_count": null,
   "metadata": {},
   "outputs": [],
   "source": [
    "all_relation_wise_examples = defaultdict(list)\n",
    "all_relation_wise_subjects = defaultdict(set)\n",
    "for example in tqdm(all_data):\n",
    "    if example['rel_id'] in ['Synonym', 'Antonym', 'HasProperty', 'NotHasProperty', 'Desires', 'NotDesires', 'CapableOf', 'NotCapableOf']:\n",
    "        all_relation_wise_examples[example['rel_id']].append(example)\n",
    "        all_relation_wise_subjects[example['rel_id']].add(example['subj'])"
   ]
  },
  {
   "cell_type": "code",
   "execution_count": null,
   "metadata": {},
   "outputs": [],
   "source": [
    "for rel_id in relation_wise_examples:\n",
    "    print(rel_id, len(relation_wise_examples[rel_id]))"
   ]
  },
  {
   "cell_type": "code",
   "execution_count": null,
   "metadata": {},
   "outputs": [],
   "source": [
    "filtered_relation_wise_examples = defaultdict(list)\n",
    "merged_relation_wise_subjects = {}\n",
    "merged_relation_wise_subjects['Synonym'] = relation_wise_subjects['Synonym'] & all_relation_wise_subjects['Antonym']\n",
    "merged_relation_wise_subjects['Antonym'] = relation_wise_subjects['Antonym'] & all_relation_wise_subjects['Synonym']\n",
    "merged_relation_wise_subjects['HasProperty'] = relation_wise_subjects['HasProperty'] & all_relation_wise_subjects['NotHasProperty']\n",
    "merged_relation_wise_subjects['NotHasProperty'] = relation_wise_subjects['NotHasProperty'] & all_relation_wise_subjects['HasProperty']\n",
    "merged_relation_wise_subjects['Desires'] = relation_wise_subjects['Desires'] & all_relation_wise_subjects['NotDesires']\n",
    "merged_relation_wise_subjects['NotDesires'] = relation_wise_subjects['NotDesires'] & all_relation_wise_subjects['Desires']\n",
    "merged_relation_wise_subjects['CapableOf'] = relation_wise_subjects['CapableOf'] & all_relation_wise_subjects['NotCapableOf']\n",
    "merged_relation_wise_subjects['NotCapableOf'] = relation_wise_subjects['NotCapableOf'] & all_relation_wise_subjects['CapableOf']"
   ]
  },
  {
   "cell_type": "code",
   "execution_count": null,
   "metadata": {},
   "outputs": [],
   "source": [
    "for rel_id in relation_wise_examples:\n",
    "    for example in relation_wise_examples[rel_id]:\n",
    "        if example['subj'] in merged_relation_wise_subjects[rel_id]:\n",
    "            filtered_relation_wise_examples[rel_id].append(example)"
   ]
  },
  {
   "cell_type": "code",
   "execution_count": null,
   "metadata": {},
   "outputs": [],
   "source": [
    "for rel_id in filtered_relation_wise_examples:\n",
    "    print(rel_id, len(filtered_relation_wise_examples[rel_id]))"
   ]
  },
  {
   "cell_type": "code",
   "execution_count": null,
   "metadata": {},
   "outputs": [],
   "source": [
    "opposite_relation_ids = []\n",
    "for example in filtered_relation_wise_examples['Synonym']:\n",
    "    opposite_relation_ids.append(example['uid'])\n",
    "for example in filtered_relation_wise_examples['Antonym']:\n",
    "    opposite_relation_ids.append(example['uid'])"
   ]
  },
  {
   "cell_type": "code",
   "execution_count": null,
   "metadata": {},
   "outputs": [],
   "source": [
    "synonym_answers = defaultdict(list)\n",
    "antonym_answers = defaultdict(list)\n",
    "for example in all_relation_wise_examples['Synonym']:\n",
    "    if example['subj'] in relation_wise_subjects['Antonym']:\n",
    "        synonym_answers[example['subj']].append(example['output'])\n",
    "for example in all_relation_wise_examples['Antonym']:\n",
    "    if example['subj'] in relation_wise_subjects['Synonym']:\n",
    "        antonym_answers[example['subj']].append(example['output'])"
   ]
  },
  {
   "cell_type": "code",
   "execution_count": null,
   "metadata": {},
   "outputs": [],
   "source": [
    "with open('opposite_relation_ids.json', 'w') as fout:\n",
    "    json.dump(opposite_relation_ids, fout)\n",
    "with open('synonym_answers.json', 'w') as fout:\n",
    "    json.dump(synonym_answers, fout)\n",
    "with open('antonym_answers.json', 'w') as fout:\n",
    "    json.dump(antonym_answers, fout)"
   ]
  },
  {
   "cell_type": "code",
   "execution_count": null,
   "metadata": {},
   "outputs": [],
   "source": []
  }
 ],
 "metadata": {
  "kernelspec": {
   "display_name": "factual_knowledge_probing",
   "language": "python",
   "name": "python3"
  },
  "language_info": {
   "codemirror_mode": {
    "name": "ipython",
    "version": 3
   },
   "file_extension": ".py",
   "mimetype": "text/x-python",
   "name": "python",
   "nbconvert_exporter": "python",
   "pygments_lexer": "ipython3",
   "version": "3.9.18"
  }
 },
 "nbformat": 4,
 "nbformat_minor": 2
}
